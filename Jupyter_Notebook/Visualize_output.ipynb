{
 "cells": [
  {
   "cell_type": "markdown",
   "metadata": {},
   "source": [
    "# Visualize output\n",
    "    -Author: GEOframe group\n",
    "    -License: this work is licensed under a Creative Commons Attribution-NonCommercial 4.0 International License\n",
    "-----\n"
   ]
  },
  {
   "cell_type": "code",
   "execution_count": 8,
   "metadata": {},
   "outputs": [],
   "source": [
    "import os\n",
    "import pandas as pd\n",
    "import numpy as np\n",
    "import matplotlib\n",
    "import matplotlib.pyplot as plt\n",
    "import matplotlib.dates as mdates\n",
    "import matplotlib.colors as cl \n",
    "from matplotlib import rc\n",
    "import matplotlib.style as style \n",
    "%matplotlib inline\n",
    "\n",
    "import math\n",
    "import xarray as xr\n",
    "\n",
    "import warnings\n",
    "warnings.filterwarnings('ignore')\n",
    "\n",
    "style.available\n",
    "style.use('seaborn-whitegrid')\n",
    "\n",
    "nice_fonts = {\n",
    "        \"legend.frameon\": True,\n",
    "        \"legend.fancybox\": True,\n",
    "        \"legend.facecolor\": \"white\",\n",
    "        \"axes.edgecolor\": \"0.8\",\n",
    "        \"axes.linewidth\": 0.6,\n",
    "        \"grid.linewidth\":0.4,\n",
    "        # Use LaTeX to write all text\n",
    "        \"text.usetex\": True,\n",
    "        \"font.family\": \"serif\",\n",
    "        # Use 10pt font in plots, to match 10pt font in document\n",
    "        \"axes.labelsize\": 12,\n",
    "        \"font.size\": 12,\n",
    "        # Make the legend/label fonts a little smaller\n",
    "        \"legend.fontsize\": 10,\n",
    "        \"xtick.labelsize\": 10,\n",
    "        \"ytick.labelsize\": 10,\n",
    "}\n",
    "\n",
    "plt.rcParams.update(nice_fonts)\n",
    "\n",
    "\n",
    "my_cmap = matplotlib.colors.LinearSegmentedColormap.from_list(\"\", [\"#ece7f2\",\"#d0d1e6\",\"#a6bddb\",\"#74a9cf\",\"#3690c0\",\"#0570b0\",\"#045a8d\",\"#023858\"])\n",
    "project_path = os.path.dirname(os.getcwd())"
   ]
  },
  {
   "cell_type": "markdown",
   "metadata": {},
   "source": [
    "## Read the output file"
   ]
  },
  {
   "cell_type": "code",
   "execution_count": 9,
   "metadata": {},
   "outputs": [
    {
     "data": {
      "text/plain": [
       "['ex00_0000.nc',\n",
       " 'ex00_canc_0000.nc',\n",
       " 'ex01_0000.nc',\n",
       " 'ex02_0000.nc',\n",
       " 'ex02_new_0000.nc',\n",
       " 'ex03_dry_0000.nc',\n",
       " 'ex03_wet_0000.nc',\n",
       " 'ex04_0000.nc',\n",
       " 'ex04_deep_0000.nc',\n",
       " 'ex05_15C_0000.nc',\n",
       " 'ex05_30C_0000.nc',\n",
       " 'ex05_5C_0000.nc',\n",
       " 'ex06_0000.nc',\n",
       " 'ex06_calibrated_0000.nc',\n",
       " 'ex06_simulated_psi.csv',\n",
       " 'ex06_simulated_theta.csv',\n",
       " 'ex07_0000.nc',\n",
       " 'ex07_simulated_psi.csv',\n",
       " 'ex07_simulated_theta.csv',\n",
       " 'ex08_0000.nc',\n",
       " 'Integrate PDE',\n",
       " 'richardsCalib']"
      ]
     },
     "execution_count": 9,
     "metadata": {},
     "output_type": "execute_result"
    }
   ],
   "source": [
    "os.chdir(project_path+'/output')\n",
    "os.listdir()"
   ]
  },
  {
   "cell_type": "code",
   "execution_count": 10,
   "metadata": {},
   "outputs": [
    {
     "data": {
      "text/plain": [
       "<bound method Mapping.keys of <xarray.Dataset>\n",
       "Dimensions:           (depth: 56, dualDepth: 56, time: 1417)\n",
       "Coordinates:\n",
       "  * depth             (depth) float64 -1.995 -1.982 -1.964 ... -0.005 0.0\n",
       "  * dualDepth         (dualDepth) float64 -2.0 -1.99 -1.975 ... -0.025 -0.01 0.0\n",
       "  * time              (time) datetime64[ns] 2003-01-01 ... 2003-03-01\n",
       "Data variables:\n",
       "    psi               (time, depth) float64 ...\n",
       "    psiIC             (depth) float64 ...\n",
       "    T                 (depth) float64 ...\n",
       "    theta             (time, depth) float64 ...\n",
       "    saturationDegree  (time, depth) float64 ...\n",
       "    darcyVelocity     (time, dualDepth) float64 ...\n",
       "    waterVolume       (time, depth) float64 ...\n",
       "    error             (time) float64 ...\n",
       "    topBC             (time) float64 ...\n",
       "    bottomBC          (time) float64 ...\n",
       "    runOff            (time) float64 ...\n",
       "    controlVolume     (depth) float64 ...\n",
       "Attributes:\n",
       "    Description_of_the_problem:         WHETGEO-1D ex07.\n",
       "    Top_boundary_condition:             Top Coupled\n",
       "    Bottom_boundary_condition:          Bottom free drainage\n",
       "    path_top_boundary_condition:        C:\\Users\\Niccolo\\OMS\\OMS_Project_WHET...\n",
       "    path_bottom_boundary_condition:     C:\\Users\\Niccolo\\OMS\\OMS_Project_WHET...\n",
       "    path_grid:                          C:\\Users\\Niccolo\\OMS\\OMS_Project_WHET...\n",
       "    time_delta:                          \n",
       "    swrc_model:                         {Water Depth,Brooks Corey}\n",
       "    soil_hydraulic_conductivity_model:  {null,Mualem Brooks Corey}\n",
       "    interface_conductivity_model:       max>"
      ]
     },
     "execution_count": 10,
     "metadata": {},
     "output_type": "execute_result"
    }
   ],
   "source": [
    "ds = xr.open_dataset(\"ex08_0000.nc\")\n",
    "ds.keys"
   ]
  },
  {
   "cell_type": "markdown",
   "metadata": {},
   "source": [
    "## 2D plot"
   ]
  },
  {
   "cell_type": "markdown",
   "metadata": {},
   "source": [
    "non legge latex"
   ]
  },
  {
   "cell_type": "code",
   "execution_count": null,
   "metadata": {},
   "outputs": [],
   "source": [
    "fig, ax = plt.subplots(1, 1, figsize=(6,6/1.618))\n",
    "\n",
    "#ds.psi.plot(ax=ax, y='depth', cmap='Blues')\n",
    "\n",
    "ax.set_title('text')\n",
    "ax.set_ylabel('text')\n",
    "ax.set_xlabel('text')\n",
    "\n",
    "ax.xaxis.set_major_formatter(mdates.DateFormatter('%H:%M'))\n",
    "ax.xaxis.set_tick_params(rotation=45)\n",
    "\n",
    "plt.show()"
   ]
  },
  {
   "cell_type": "markdown",
   "metadata": {},
   "source": [
    "## 1D plot"
   ]
  },
  {
   "cell_type": "markdown",
   "metadata": {},
   "source": [
    "### Vertical profile"
   ]
  },
  {
   "cell_type": "code",
   "execution_count": null,
   "metadata": {},
   "outputs": [],
   "source": [
    "fig, ax = plt.subplots(1, 1, figsize=(6,6/1.618))\n",
    "\n",
    "ds.psi.sel(time='2003-01-01 04:00').plot(ax=ax, y='depth', color='blue')\n",
    "\n",
    "# ax.set_title('text')\n",
    "# ax.set_ylabel('text')\n",
    "# ax.set_xlabel('text')\n",
    "\n",
    "plt.show()"
   ]
  },
  {
   "cell_type": "markdown",
   "metadata": {},
   "source": [
    "### Time evolution at a specific depth"
   ]
  },
  {
   "cell_type": "code",
   "execution_count": null,
   "metadata": {},
   "outputs": [],
   "source": [
    "fig, ax = plt.subplots(1, 1, figsize=(6,6/1.618))\n",
    "\n",
    "ds.psi.sel(depth=-0.7, method='nearest').plot(ax=ax, color='blue')\n",
    "\n",
    "# ax.set_title('text')\n",
    "# ax.set_ylabel('text')\n",
    "# ax.set_xlabel('text')\n",
    "\n",
    "# ax.xaxis.set_major_formatter(mdates.DateFormatter('%H:%M'))\n",
    "# ax.xaxis.set_tick_params(rotation=45)\n",
    "\n",
    "plt.show()"
   ]
  },
  {
   "cell_type": "code",
   "execution_count": null,
   "metadata": {},
   "outputs": [],
   "source": [
    "fig, ax= plt.subplots(1, 1, figsize=(10, 10/1.618)) \n",
    "\n",
    "(ds.darcyVelocity.sel(dualDepth=0, method='nearest')*60).cumsum().plot(ax=ax, label='Surface', color='0.2')\n",
    "(ds.darcyVelocity.sel(dualDepth=-2, method='nearest')*60).cumsum().plot(ax=ax, label='Bottom', color='red')\n",
    "\n",
    "\n",
    "ax.set_title('')\n",
    "\n",
    "ax.set_ylabel('Cumulate water flux [m]')\n",
    "\n",
    "ax.set_xlabel('Time [dd hh:mm]')\n",
    "\n",
    "ax.xaxis.set_major_formatter(mdates.DateFormatter('%d %H:%M'))\n",
    "ax.xaxis.set_tick_params(rotation=45)\n",
    "\n",
    "ax.legend(bbox_to_anchor=(1.25,0.65), ncol=1)\n",
    "\n",
    "plt.tight_layout()\n",
    "plt.show()"
   ]
  },
  {
   "cell_type": "code",
   "execution_count": null,
   "metadata": {},
   "outputs": [],
   "source": []
  },
  {
   "cell_type": "code",
   "execution_count": null,
   "metadata": {},
   "outputs": [],
   "source": []
  },
  {
   "cell_type": "code",
   "execution_count": null,
   "metadata": {},
   "outputs": [],
   "source": []
  }
 ],
 "metadata": {
  "kernelspec": {
   "display_name": "Python 3 (ipykernel)",
   "language": "python",
   "name": "python3"
  },
  "language_info": {
   "codemirror_mode": {
    "name": "ipython",
    "version": 3
   },
   "file_extension": ".py",
   "mimetype": "text/x-python",
   "name": "python",
   "nbconvert_exporter": "python",
   "pygments_lexer": "ipython3",
   "version": "3.7.12"
  }
 },
 "nbformat": 4,
 "nbformat_minor": 4
}
