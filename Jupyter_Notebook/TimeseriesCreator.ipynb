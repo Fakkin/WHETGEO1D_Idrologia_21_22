{
 "cells": [
  {
   "cell_type": "markdown",
   "metadata": {},
   "source": [
    "Prima si Formatta poi si Crea!!"
   ]
  },
  {
   "cell_type": "markdown",
   "metadata": {},
   "source": [
    "# Time Series Creator\n"
   ]
  },
  {
   "cell_type": "code",
   "execution_count": 1,
   "metadata": {},
   "outputs": [
    {
     "data": {
      "text/plain": [
       "'C:\\\\Users\\\\super\\\\OMS_Project_WHETGEO1D_Idrologia_ay_21_22'"
      ]
     },
     "execution_count": 1,
     "metadata": {},
     "output_type": "execute_result"
    }
   ],
   "source": [
    "import os\n",
    "import numpy as np\n",
    "import pandas as pd\n",
    "\n",
    "import matplotlib.pyplot as plt\n",
    "import matplotlib.dates as mdates\n",
    "import datetime\n",
    "#from timeseries_writer import *\n",
    "from geoframepy.timeseries import io_csv\n",
    "\n",
    "oms_project_path = os.path.dirname(os.getcwd())\n",
    "oms_project_path"
   ]
  },
  {
   "cell_type": "code",
   "execution_count": 2,
   "metadata": {},
   "outputs": [],
   "source": [
    "project_name='E2_rain.csv'"
   ]
  },
  {
   "cell_type": "markdown",
   "metadata": {},
   "source": [
    "## Create Date Time Index\n",
    "\n",
    "To create the timeseries it is possible to use the method `pandas.date_range()`\n",
    "\n",
    "The timeseries can be specified by defining the start date `start` and the end date `end`, or the start date `start` and the number of periods `periods`.\n",
    "\n",
    "The frequency is defined by `freq`:\n",
    "- `D` daily;\n",
    "- `H` hourly;\n",
    "- `T` minutes;"
   ]
  },
  {
   "cell_type": "code",
   "execution_count": 3,
   "metadata": {},
   "outputs": [
    {
     "data": {
      "text/plain": [
       "DatetimeIndex(['2022-01-01 00:00:00', '2022-01-01 00:01:00',\n",
       "               '2022-01-01 00:02:00', '2022-01-01 00:03:00',\n",
       "               '2022-01-01 00:04:00', '2022-01-01 00:05:00',\n",
       "               '2022-01-01 00:06:00', '2022-01-01 00:07:00',\n",
       "               '2022-01-01 00:08:00', '2022-01-01 00:09:00',\n",
       "               ...\n",
       "               '2022-01-03 23:51:00', '2022-01-03 23:52:00',\n",
       "               '2022-01-03 23:53:00', '2022-01-03 23:54:00',\n",
       "               '2022-01-03 23:55:00', '2022-01-03 23:56:00',\n",
       "               '2022-01-03 23:57:00', '2022-01-03 23:58:00',\n",
       "               '2022-01-03 23:59:00', '2022-01-04 00:00:00'],\n",
       "              dtype='datetime64[ns]', length=4321, freq='T')"
      ]
     },
     "execution_count": 3,
     "metadata": {},
     "output_type": "execute_result"
    }
   ],
   "source": [
    "date_rng = pd.date_range(start='01/01/2022 00:00', end='01/04/2022 00:00' , freq='1min')\n",
    "date_rng"
   ]
  },
  {
   "cell_type": "markdown",
   "metadata": {},
   "source": [
    "## Create data"
   ]
  },
  {
   "cell_type": "code",
   "execution_count": 4,
   "metadata": {},
   "outputs": [],
   "source": [
    "d=len(date_rng)\n",
    "dataframe = np.zeros(d)\n",
    "#set the minimum value of time series m\n",
    "m=0.05 #0.05\n",
    "#set the maximum value of time series M\n",
    "M=0.2 #0.2\n",
    "for i in range(0,1500):\n",
    "    #create a time series with a costant value\n",
    "    dataframe[i] = 0.9\n",
    "    #\n",
    "    #create a sinusoidal timeseries\n",
    "    #dataframe[i] =(m+M)/2 + ((m+M)/2-m)*np.sin(2*np.pi/(365*24)*i) "
   ]
  },
  {
   "cell_type": "code",
   "execution_count": 5,
   "metadata": {
    "tags": []
   },
   "outputs": [
    {
     "data": {
      "text/html": [
       "<div>\n",
       "<style scoped>\n",
       "    .dataframe tbody tr th:only-of-type {\n",
       "        vertical-align: middle;\n",
       "    }\n",
       "\n",
       "    .dataframe tbody tr th {\n",
       "        vertical-align: top;\n",
       "    }\n",
       "\n",
       "    .dataframe thead th {\n",
       "        text-align: right;\n",
       "    }\n",
       "</style>\n",
       "<table border=\"1\" class=\"dataframe\">\n",
       "  <thead>\n",
       "    <tr style=\"text-align: right;\">\n",
       "      <th></th>\n",
       "      <th>0</th>\n",
       "      <th>date</th>\n",
       "      <th>Value</th>\n",
       "    </tr>\n",
       "  </thead>\n",
       "  <tbody>\n",
       "    <tr>\n",
       "      <th>0</th>\n",
       "      <td>NaN</td>\n",
       "      <td>2022-01-01 00:00:00</td>\n",
       "      <td>0.9</td>\n",
       "    </tr>\n",
       "    <tr>\n",
       "      <th>1</th>\n",
       "      <td>NaN</td>\n",
       "      <td>2022-01-01 00:01:00</td>\n",
       "      <td>0.9</td>\n",
       "    </tr>\n",
       "    <tr>\n",
       "      <th>2</th>\n",
       "      <td>NaN</td>\n",
       "      <td>2022-01-01 00:02:00</td>\n",
       "      <td>0.9</td>\n",
       "    </tr>\n",
       "    <tr>\n",
       "      <th>3</th>\n",
       "      <td>NaN</td>\n",
       "      <td>2022-01-01 00:03:00</td>\n",
       "      <td>0.9</td>\n",
       "    </tr>\n",
       "    <tr>\n",
       "      <th>4</th>\n",
       "      <td>NaN</td>\n",
       "      <td>2022-01-01 00:04:00</td>\n",
       "      <td>0.9</td>\n",
       "    </tr>\n",
       "  </tbody>\n",
       "</table>\n",
       "</div>"
      ],
      "text/plain": [
       "    0                date  Value\n",
       "0 NaN 2022-01-01 00:00:00    0.9\n",
       "1 NaN 2022-01-01 00:01:00    0.9\n",
       "2 NaN 2022-01-01 00:02:00    0.9\n",
       "3 NaN 2022-01-01 00:03:00    0.9\n",
       "4 NaN 2022-01-01 00:04:00    0.9"
      ]
     },
     "execution_count": 5,
     "metadata": {},
     "output_type": "execute_result"
    }
   ],
   "source": [
    "dfOut = pd.DataFrame(date_rng, columns=['date'])\n",
    "dfOut['Value'] = dataframe\n",
    "dfOut.insert(loc=0, column='0', value=np.nan)\n",
    "dfOut.head()"
   ]
  },
  {
   "cell_type": "code",
   "execution_count": 6,
   "metadata": {},
   "outputs": [
    {
     "name": "stderr",
     "output_type": "stream",
     "text": [
      "C:\\Users\\super\\anaconda\\envs\\geoframe_verona\\lib\\site-packages\\ipykernel_launcher.py:3: MatplotlibDeprecationWarning: Case-insensitive properties were deprecated in 3.3 and support will be removed two minor releases later\n",
      "  This is separate from the ipykernel package so we can avoid doing imports until\n"
     ]
    },
    {
     "data": {
      "image/png": "[encoded data removed]",
      "text/plain": [
       "<Figure size 720x360 with 1 Axes>"
      ]
     },
     "metadata": {
      "needs_background": "light"
     },
     "output_type": "display_data"
    }
   ],
   "source": [
    "fig = plt.figure(figsize=(10,5))\n",
    "ax = plt.subplot(111)\n",
    "plt.plot(dfOut['date'],dfOut['Value'], lineWidth =3)\n",
    "plt.xlabel('Date',fontsize=14)\n",
    "plt.ylabel('Value [-]',fontsize=14)   \n",
    "plt.title('Value',fontsize=18)\n",
    "fig.autofmt_xdate()\n",
    "ax.xaxis.set_major_formatter(mdates.DateFormatter('%Y-%m-%d %H:%M'))\n",
    "xlabels = ax.get_xticklabels()\n",
    "ax.xaxis.get_major_ticks()\n",
    "for label in xlabels:\n",
    "    label.set_rotation(75)\n",
    "    label.set_fontsize(12)\n",
    "plt.grid()\n",
    "plt.show()\n"
   ]
  },
  {
   "cell_type": "code",
   "execution_count": 7,
   "metadata": {},
   "outputs": [
    {
     "data": {
      "text/html": [
       "<div>\n",
       "<style scoped>\n",
       "    .dataframe tbody tr th:only-of-type {\n",
       "        vertical-align: middle;\n",
       "    }\n",
       "\n",
       "    .dataframe tbody tr th {\n",
       "        vertical-align: top;\n",
       "    }\n",
       "\n",
       "    .dataframe thead th {\n",
       "        text-align: right;\n",
       "    }\n",
       "</style>\n",
       "<table border=\"1\" class=\"dataframe\">\n",
       "  <thead>\n",
       "    <tr style=\"text-align: right;\">\n",
       "      <th></th>\n",
       "      <th>0</th>\n",
       "      <th>date</th>\n",
       "      <th>Value</th>\n",
       "    </tr>\n",
       "  </thead>\n",
       "  <tbody>\n",
       "    <tr>\n",
       "      <th>0</th>\n",
       "      <td>NaN</td>\n",
       "      <td>2022-01-01 00:00:00</td>\n",
       "      <td>0.9</td>\n",
       "    </tr>\n",
       "    <tr>\n",
       "      <th>1</th>\n",
       "      <td>NaN</td>\n",
       "      <td>2022-01-01 00:01:00</td>\n",
       "      <td>0.9</td>\n",
       "    </tr>\n",
       "    <tr>\n",
       "      <th>2</th>\n",
       "      <td>NaN</td>\n",
       "      <td>2022-01-01 00:02:00</td>\n",
       "      <td>0.9</td>\n",
       "    </tr>\n",
       "    <tr>\n",
       "      <th>3</th>\n",
       "      <td>NaN</td>\n",
       "      <td>2022-01-01 00:03:00</td>\n",
       "      <td>0.9</td>\n",
       "    </tr>\n",
       "    <tr>\n",
       "      <th>4</th>\n",
       "      <td>NaN</td>\n",
       "      <td>2022-01-01 00:04:00</td>\n",
       "      <td>0.9</td>\n",
       "    </tr>\n",
       "    <tr>\n",
       "      <th>...</th>\n",
       "      <td>...</td>\n",
       "      <td>...</td>\n",
       "      <td>...</td>\n",
       "    </tr>\n",
       "    <tr>\n",
       "      <th>4316</th>\n",
       "      <td>NaN</td>\n",
       "      <td>2022-01-03 23:56:00</td>\n",
       "      <td>0.0</td>\n",
       "    </tr>\n",
       "    <tr>\n",
       "      <th>4317</th>\n",
       "      <td>NaN</td>\n",
       "      <td>2022-01-03 23:57:00</td>\n",
       "      <td>0.0</td>\n",
       "    </tr>\n",
       "    <tr>\n",
       "      <th>4318</th>\n",
       "      <td>NaN</td>\n",
       "      <td>2022-01-03 23:58:00</td>\n",
       "      <td>0.0</td>\n",
       "    </tr>\n",
       "    <tr>\n",
       "      <th>4319</th>\n",
       "      <td>NaN</td>\n",
       "      <td>2022-01-03 23:59:00</td>\n",
       "      <td>0.0</td>\n",
       "    </tr>\n",
       "    <tr>\n",
       "      <th>4320</th>\n",
       "      <td>NaN</td>\n",
       "      <td>2022-01-04 00:00:00</td>\n",
       "      <td>0.0</td>\n",
       "    </tr>\n",
       "  </tbody>\n",
       "</table>\n",
       "<p>4321 rows × 3 columns</p>\n",
       "</div>"
      ],
      "text/plain": [
       "       0                date  Value\n",
       "0    NaN 2022-01-01 00:00:00    0.9\n",
       "1    NaN 2022-01-01 00:01:00    0.9\n",
       "2    NaN 2022-01-01 00:02:00    0.9\n",
       "3    NaN 2022-01-01 00:03:00    0.9\n",
       "4    NaN 2022-01-01 00:04:00    0.9\n",
       "...   ..                 ...    ...\n",
       "4316 NaN 2022-01-03 23:56:00    0.0\n",
       "4317 NaN 2022-01-03 23:57:00    0.0\n",
       "4318 NaN 2022-01-03 23:58:00    0.0\n",
       "4319 NaN 2022-01-03 23:59:00    0.0\n",
       "4320 NaN 2022-01-04 00:00:00    0.0\n",
       "\n",
       "[4321 rows x 3 columns]"
      ]
     },
     "execution_count": 7,
     "metadata": {},
     "output_type": "execute_result"
    }
   ],
   "source": [
    "dfOut"
   ]
  },
  {
   "cell_type": "code",
   "execution_count": 8,
   "metadata": {},
   "outputs": [],
   "source": [
    "dfOut.rename(columns={ dfOut.columns[1]: \"0\",dfOut.columns[2]:'0' }, inplace = True)"
   ]
  },
  {
   "cell_type": "code",
   "execution_count": 9,
   "metadata": {},
   "outputs": [
    {
     "data": {
      "text/html": [
       "<div>\n",
       "<style scoped>\n",
       "    .dataframe tbody tr th:only-of-type {\n",
       "        vertical-align: middle;\n",
       "    }\n",
       "\n",
       "    .dataframe tbody tr th {\n",
       "        vertical-align: top;\n",
       "    }\n",
       "\n",
       "    .dataframe thead th {\n",
       "        text-align: right;\n",
       "    }\n",
       "</style>\n",
       "<table border=\"1\" class=\"dataframe\">\n",
       "  <thead>\n",
       "    <tr style=\"text-align: right;\">\n",
       "      <th></th>\n",
       "      <th>0</th>\n",
       "      <th>0</th>\n",
       "      <th>0</th>\n",
       "    </tr>\n",
       "  </thead>\n",
       "  <tbody>\n",
       "    <tr>\n",
       "      <th>0</th>\n",
       "      <td>NaN</td>\n",
       "      <td>2022-01-01 00:00:00</td>\n",
       "      <td>0.9</td>\n",
       "    </tr>\n",
       "    <tr>\n",
       "      <th>1</th>\n",
       "      <td>NaN</td>\n",
       "      <td>2022-01-01 00:01:00</td>\n",
       "      <td>0.9</td>\n",
       "    </tr>\n",
       "    <tr>\n",
       "      <th>2</th>\n",
       "      <td>NaN</td>\n",
       "      <td>2022-01-01 00:02:00</td>\n",
       "      <td>0.9</td>\n",
       "    </tr>\n",
       "    <tr>\n",
       "      <th>3</th>\n",
       "      <td>NaN</td>\n",
       "      <td>2022-01-01 00:03:00</td>\n",
       "      <td>0.9</td>\n",
       "    </tr>\n",
       "    <tr>\n",
       "      <th>4</th>\n",
       "      <td>NaN</td>\n",
       "      <td>2022-01-01 00:04:00</td>\n",
       "      <td>0.9</td>\n",
       "    </tr>\n",
       "    <tr>\n",
       "      <th>...</th>\n",
       "      <td>...</td>\n",
       "      <td>...</td>\n",
       "      <td>...</td>\n",
       "    </tr>\n",
       "    <tr>\n",
       "      <th>4316</th>\n",
       "      <td>NaN</td>\n",
       "      <td>2022-01-03 23:56:00</td>\n",
       "      <td>0.0</td>\n",
       "    </tr>\n",
       "    <tr>\n",
       "      <th>4317</th>\n",
       "      <td>NaN</td>\n",
       "      <td>2022-01-03 23:57:00</td>\n",
       "      <td>0.0</td>\n",
       "    </tr>\n",
       "    <tr>\n",
       "      <th>4318</th>\n",
       "      <td>NaN</td>\n",
       "      <td>2022-01-03 23:58:00</td>\n",
       "      <td>0.0</td>\n",
       "    </tr>\n",
       "    <tr>\n",
       "      <th>4319</th>\n",
       "      <td>NaN</td>\n",
       "      <td>2022-01-03 23:59:00</td>\n",
       "      <td>0.0</td>\n",
       "    </tr>\n",
       "    <tr>\n",
       "      <th>4320</th>\n",
       "      <td>NaN</td>\n",
       "      <td>2022-01-04 00:00:00</td>\n",
       "      <td>0.0</td>\n",
       "    </tr>\n",
       "  </tbody>\n",
       "</table>\n",
       "<p>4321 rows × 3 columns</p>\n",
       "</div>"
      ],
      "text/plain": [
       "       0                   0    0\n",
       "0    NaN 2022-01-01 00:00:00  0.9\n",
       "1    NaN 2022-01-01 00:01:00  0.9\n",
       "2    NaN 2022-01-01 00:02:00  0.9\n",
       "3    NaN 2022-01-01 00:03:00  0.9\n",
       "4    NaN 2022-01-01 00:04:00  0.9\n",
       "...   ..                 ...  ...\n",
       "4316 NaN 2022-01-03 23:56:00  0.0\n",
       "4317 NaN 2022-01-03 23:57:00  0.0\n",
       "4318 NaN 2022-01-03 23:58:00  0.0\n",
       "4319 NaN 2022-01-03 23:59:00  0.0\n",
       "4320 NaN 2022-01-04 00:00:00  0.0\n",
       "\n",
       "[4321 rows x 3 columns]"
      ]
     },
     "execution_count": 9,
     "metadata": {},
     "output_type": "execute_result"
    }
   ],
   "source": [
    "dfOut"
   ]
  },
  {
   "cell_type": "markdown",
   "metadata": {},
   "source": [
    "\n",
    "# Save to a .csv file"
   ]
  },
  {
   "cell_type": "code",
   "execution_count": 10,
   "metadata": {},
   "outputs": [],
   "source": [
    "os.chdir(oms_project_path+\"\\\\data\\\\Timeseries\")\n",
    "#os.listdir()"
   ]
  },
  {
   "cell_type": "code",
   "execution_count": 11,
   "metadata": {},
   "outputs": [],
   "source": [
    "#write_timeseries_csv(dfOut,'E1_water_ponding.csv')"
   ]
  },
  {
   "cell_type": "code",
   "execution_count": 12,
   "metadata": {},
   "outputs": [],
   "source": [
    "#from geoframepy.timeseries import io_csv"
   ]
  },
  {
   "cell_type": "code",
   "execution_count": 13,
   "metadata": {},
   "outputs": [
    {
     "name": "stdout",
     "output_type": "stream",
     "text": [
      "\n",
      "\n",
      "***SUCCESS writing!  C:\\Users\\super\\OMS_Project_WHETGEO1D_Idrologia_ay_21_22\\data\\Timeseries\\E2_rain.csv\n"
     ]
    }
   ],
   "source": [
    "io_csv.write_OMS_timeseries(dfOut.iloc[:,2:], oms_project_path+'\\\\data\\\\Timeseries\\\\'+project_name, has_datetime=False, start_date='01-01-2022 00:00', frequency='1min')"
   ]
  },
  {
   "cell_type": "code",
   "execution_count": null,
   "metadata": {},
   "outputs": [],
   "source": []
  }
 ],
 "metadata": {
  "kernelspec": {
   "display_name": "Python 3 (ipykernel)",
   "language": "python",
   "name": "python3"
  },
  "language_info": {
   "codemirror_mode": {
    "name": "ipython",
    "version": 3
   },
   "file_extension": ".py",
   "mimetype": "text/x-python",
   "name": "python",
   "nbconvert_exporter": "python",
   "pygments_lexer": "ipython3",
   "version": "3.7.12"
  }
 },
 "nbformat": 4,
 "nbformat_minor": 4
}
